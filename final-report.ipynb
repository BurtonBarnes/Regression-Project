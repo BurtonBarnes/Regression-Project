{
 "cells": [
  {
   "cell_type": "markdown",
   "id": "8f5c85b7",
   "metadata": {},
   "source": [
    "# Single Family Properties"
   ]
  },
  {
   "cell_type": "markdown",
   "id": "b38f444f",
   "metadata": {},
   "source": [
    "## Goal:\n",
    "    * Discover drivers of property values\n",
    "    * Use drivers to develop a machine learning model to classify home owners and predict the value of their homes"
   ]
  },
  {
   "cell_type": "markdown",
   "id": "5615f3d5",
   "metadata": {},
   "source": [
    "# Imports"
   ]
  },
  {
   "cell_type": "code",
   "execution_count": 1,
   "id": "3706b150",
   "metadata": {},
   "outputs": [],
   "source": [
    "%matplotlib inline\n",
    "import matplotlib.pyplot as plt\n",
    "import numpy as np\n",
    "import pandas as pd\n",
    "import pydataset\n",
    "import seaborn as sns\n",
    "from sklearn.neighbors import KNeighborsClassifier\n",
    "from sklearn.preprocessing import MinMaxScaler, StandardScaler, RobustScaler, QuantileTransformer\n",
    "from scipy.stats import norm\n",
    "import statistics\n",
    "import warnings\n",
    "from sklearn.linear_model import LinearRegression\n",
    "warnings.filterwarnings(\"ignore\")\n",
    "from sklearn.model_selection import train_test_split\n",
    "from pandas import Series, DataFrame\n",
    "from sklearn.feature_selection import SelectKBest, RFE, f_regression, SequentialFeatureSelector\n",
    "from pydataset import data\n",
    "import wrangle as w\n",
    "from scipy import stats\n",
    "\n",
    "np.random.seed(123)"
   ]
  },
  {
   "cell_type": "markdown",
   "id": "237baf08",
   "metadata": {},
   "source": [
    "# Aquire\n",
    "    * Data aquired from Zillow SQL database\n",
    "    * It contained 2985217 rows and 59 columns before cleaning\n",
    "    * Each row represents a home owner\n",
    "    * Each column represents a feature of the property"
   ]
  },
  {
   "cell_type": "markdown",
   "id": "c394034d",
   "metadata": {},
   "source": [
    "# Prepare\n",
    "##### Prepare Actions:\n",
    "    * Removed columns that did not contain useful information\n",
    "    * Rename columns to promote readability\n",
    "    * Checked for null in the data\n",
    "    * Checked that colmn data types were appropriate\n",
    "    * Removed white space from values in object columns\n",
    "    * Encoded categorical variables\n",
    "    * Split data into train, validate, and test\n",
    "    * Scaled continous variables\n",
    "    * Outliers have been removed from this iteration  of the project"
   ]
  },
  {
   "cell_type": "markdown",
   "id": "5c9100a4",
   "metadata": {},
   "source": [
    "# Data Dictionary\n",
    "| Feature | Definition |\n",
    "|:--------|:-----------|\n",
    "|bedrooms|  Number of bedrooms in home |\n",
    "|bathrooms|  Number of bathrooms in home including fractional bathrooms |\n",
    "|fips|  Federal Information Processing Standard code -  see https://en.wikipedia.org/wiki/FIPS_county_code for more details |\n",
    "|taxamount|  The total property tax assessed for that assessment year |\n",
    "|year_built|  The Year the principal residence was built |\n",
    "|square_feet|Calculated total finished living area of the home |\n",
    "|property_value|  The total tax assessed value of the parcel |"
   ]
  },
  {
   "cell_type": "code",
   "execution_count": 2,
   "id": "78be6af5",
   "metadata": {},
   "outputs": [
    {
     "data": {
      "text/html": [
       "<div>\n",
       "<style scoped>\n",
       "    .dataframe tbody tr th:only-of-type {\n",
       "        vertical-align: middle;\n",
       "    }\n",
       "\n",
       "    .dataframe tbody tr th {\n",
       "        vertical-align: top;\n",
       "    }\n",
       "\n",
       "    .dataframe thead th {\n",
       "        text-align: right;\n",
       "    }\n",
       "</style>\n",
       "<table border=\"1\" class=\"dataframe\">\n",
       "  <thead>\n",
       "    <tr style=\"text-align: right;\">\n",
       "      <th></th>\n",
       "      <th>bedrooms</th>\n",
       "      <th>bathrooms</th>\n",
       "      <th>square_feet</th>\n",
       "      <th>property_value</th>\n",
       "      <th>yearbuilt</th>\n",
       "      <th>taxamount</th>\n",
       "      <th>fips</th>\n",
       "      <th>baseline</th>\n",
       "    </tr>\n",
       "  </thead>\n",
       "  <tbody>\n",
       "    <tr>\n",
       "      <th>4</th>\n",
       "      <td>4</td>\n",
       "      <td>2</td>\n",
       "      <td>3633</td>\n",
       "      <td>296425</td>\n",
       "      <td>2005</td>\n",
       "      <td>6941</td>\n",
       "      <td>6037</td>\n",
       "      <td>1862.231792</td>\n",
       "    </tr>\n",
       "    <tr>\n",
       "      <th>6</th>\n",
       "      <td>3</td>\n",
       "      <td>4</td>\n",
       "      <td>1620</td>\n",
       "      <td>847770</td>\n",
       "      <td>2011</td>\n",
       "      <td>10244</td>\n",
       "      <td>6037</td>\n",
       "      <td>1862.231792</td>\n",
       "    </tr>\n",
       "    <tr>\n",
       "      <th>7</th>\n",
       "      <td>3</td>\n",
       "      <td>2</td>\n",
       "      <td>2077</td>\n",
       "      <td>646760</td>\n",
       "      <td>1926</td>\n",
       "      <td>7924</td>\n",
       "      <td>6037</td>\n",
       "      <td>1862.231792</td>\n",
       "    </tr>\n",
       "    <tr>\n",
       "      <th>11</th>\n",
       "      <td>0</td>\n",
       "      <td>0</td>\n",
       "      <td>1200</td>\n",
       "      <td>5328</td>\n",
       "      <td>1972</td>\n",
       "      <td>91</td>\n",
       "      <td>6037</td>\n",
       "      <td>1862.231792</td>\n",
       "    </tr>\n",
       "    <tr>\n",
       "      <th>14</th>\n",
       "      <td>0</td>\n",
       "      <td>0</td>\n",
       "      <td>171</td>\n",
       "      <td>6920</td>\n",
       "      <td>1973</td>\n",
       "      <td>255</td>\n",
       "      <td>6037</td>\n",
       "      <td>1862.231792</td>\n",
       "    </tr>\n",
       "  </tbody>\n",
       "</table>\n",
       "</div>"
      ],
      "text/plain": [
       "    bedrooms  bathrooms  square_feet  property_value  yearbuilt  taxamount  \\\n",
       "4          4          2         3633          296425       2005       6941   \n",
       "6          3          4         1620          847770       2011      10244   \n",
       "7          3          2         2077          646760       1926       7924   \n",
       "11         0          0         1200            5328       1972         91   \n",
       "14         0          0          171            6920       1973        255   \n",
       "\n",
       "    fips     baseline  \n",
       "4   6037  1862.231792  \n",
       "6   6037  1862.231792  \n",
       "7   6037  1862.231792  \n",
       "11  6037  1862.231792  \n",
       "14  6037  1862.231792  "
      ]
     },
     "execution_count": 2,
     "metadata": {},
     "output_type": "execute_result"
    }
   ],
   "source": [
    "# aquiring data and looking at the data\n",
    "df = w.wrangle_zillow()\n",
    "df.head()"
   ]
  },
  {
   "cell_type": "code",
   "execution_count": 3,
   "id": "97542150",
   "metadata": {},
   "outputs": [],
   "source": [
    "# splitting data into train, validate, and test\n",
    "train, validate, test = w.split_zillow(df)"
   ]
  },
  {
   "cell_type": "markdown",
   "id": "161065ff",
   "metadata": {},
   "source": [
    "### A brief look at the data"
   ]
  },
  {
   "cell_type": "code",
   "execution_count": 4,
   "id": "e81ca82b",
   "metadata": {},
   "outputs": [
    {
     "data": {
      "text/html": [
       "<div>\n",
       "<style scoped>\n",
       "    .dataframe tbody tr th:only-of-type {\n",
       "        vertical-align: middle;\n",
       "    }\n",
       "\n",
       "    .dataframe tbody tr th {\n",
       "        vertical-align: top;\n",
       "    }\n",
       "\n",
       "    .dataframe thead th {\n",
       "        text-align: right;\n",
       "    }\n",
       "</style>\n",
       "<table border=\"1\" class=\"dataframe\">\n",
       "  <thead>\n",
       "    <tr style=\"text-align: right;\">\n",
       "      <th></th>\n",
       "      <th>bedrooms</th>\n",
       "      <th>bathrooms</th>\n",
       "      <th>square_feet</th>\n",
       "      <th>property_value</th>\n",
       "      <th>yearbuilt</th>\n",
       "      <th>taxamount</th>\n",
       "      <th>fips</th>\n",
       "      <th>baseline</th>\n",
       "    </tr>\n",
       "  </thead>\n",
       "  <tbody>\n",
       "    <tr>\n",
       "      <th>753133</th>\n",
       "      <td>3</td>\n",
       "      <td>3</td>\n",
       "      <td>2609</td>\n",
       "      <td>616885</td>\n",
       "      <td>2001</td>\n",
       "      <td>6696</td>\n",
       "      <td>6111</td>\n",
       "      <td>1862.231792</td>\n",
       "    </tr>\n",
       "    <tr>\n",
       "      <th>38951</th>\n",
       "      <td>4</td>\n",
       "      <td>5</td>\n",
       "      <td>5030</td>\n",
       "      <td>1573637</td>\n",
       "      <td>1997</td>\n",
       "      <td>17709</td>\n",
       "      <td>6037</td>\n",
       "      <td>1862.231792</td>\n",
       "    </tr>\n",
       "    <tr>\n",
       "      <th>1250207</th>\n",
       "      <td>3</td>\n",
       "      <td>1</td>\n",
       "      <td>1015</td>\n",
       "      <td>45510</td>\n",
       "      <td>1944</td>\n",
       "      <td>598</td>\n",
       "      <td>6037</td>\n",
       "      <td>1862.231792</td>\n",
       "    </tr>\n",
       "    <tr>\n",
       "      <th>1994915</th>\n",
       "      <td>2</td>\n",
       "      <td>2</td>\n",
       "      <td>1347</td>\n",
       "      <td>228525</td>\n",
       "      <td>1947</td>\n",
       "      <td>2813</td>\n",
       "      <td>6037</td>\n",
       "      <td>1862.231792</td>\n",
       "    </tr>\n",
       "    <tr>\n",
       "      <th>1718067</th>\n",
       "      <td>4</td>\n",
       "      <td>4</td>\n",
       "      <td>3177</td>\n",
       "      <td>1238624</td>\n",
       "      <td>1960</td>\n",
       "      <td>13996</td>\n",
       "      <td>6037</td>\n",
       "      <td>1862.231792</td>\n",
       "    </tr>\n",
       "  </tbody>\n",
       "</table>\n",
       "</div>"
      ],
      "text/plain": [
       "         bedrooms  bathrooms  square_feet  property_value  yearbuilt  \\\n",
       "753133          3          3         2609          616885       2001   \n",
       "38951           4          5         5030         1573637       1997   \n",
       "1250207         3          1         1015           45510       1944   \n",
       "1994915         2          2         1347          228525       1947   \n",
       "1718067         4          4         3177         1238624       1960   \n",
       "\n",
       "         taxamount  fips     baseline  \n",
       "753133        6696  6111  1862.231792  \n",
       "38951        17709  6037  1862.231792  \n",
       "1250207        598  6037  1862.231792  \n",
       "1994915       2813  6037  1862.231792  \n",
       "1718067      13996  6037  1862.231792  "
      ]
     },
     "execution_count": 4,
     "metadata": {},
     "output_type": "execute_result"
    }
   ],
   "source": [
    "train.head()"
   ]
  },
  {
   "cell_type": "markdown",
   "id": "263ea274",
   "metadata": {},
   "source": [
    "### A summery of the data"
   ]
  },
  {
   "cell_type": "code",
   "execution_count": 5,
   "id": "a64fe3be",
   "metadata": {},
   "outputs": [
    {
     "data": {
      "text/html": [
       "<div>\n",
       "<style scoped>\n",
       "    .dataframe tbody tr th:only-of-type {\n",
       "        vertical-align: middle;\n",
       "    }\n",
       "\n",
       "    .dataframe tbody tr th {\n",
       "        vertical-align: top;\n",
       "    }\n",
       "\n",
       "    .dataframe thead th {\n",
       "        text-align: right;\n",
       "    }\n",
       "</style>\n",
       "<table border=\"1\" class=\"dataframe\">\n",
       "  <thead>\n",
       "    <tr style=\"text-align: right;\">\n",
       "      <th></th>\n",
       "      <th>bedrooms</th>\n",
       "      <th>bathrooms</th>\n",
       "      <th>square_feet</th>\n",
       "      <th>property_value</th>\n",
       "      <th>yearbuilt</th>\n",
       "      <th>taxamount</th>\n",
       "      <th>fips</th>\n",
       "      <th>baseline</th>\n",
       "    </tr>\n",
       "  </thead>\n",
       "  <tbody>\n",
       "    <tr>\n",
       "      <th>count</th>\n",
       "      <td>1.198509e+06</td>\n",
       "      <td>1.198509e+06</td>\n",
       "      <td>1.198509e+06</td>\n",
       "      <td>1.198509e+06</td>\n",
       "      <td>1.198509e+06</td>\n",
       "      <td>1.198509e+06</td>\n",
       "      <td>1.198509e+06</td>\n",
       "      <td>1.198509e+06</td>\n",
       "    </tr>\n",
       "    <tr>\n",
       "      <th>mean</th>\n",
       "      <td>3.301475e+00</td>\n",
       "      <td>2.186956e+00</td>\n",
       "      <td>1.862337e+03</td>\n",
       "      <td>4.596988e+05</td>\n",
       "      <td>1.960970e+03</td>\n",
       "      <td>5.605335e+03</td>\n",
       "      <td>6.048324e+03</td>\n",
       "      <td>1.862232e+03</td>\n",
       "    </tr>\n",
       "    <tr>\n",
       "      <th>std</th>\n",
       "      <td>9.314530e-01</td>\n",
       "      <td>9.720801e-01</td>\n",
       "      <td>9.660099e+02</td>\n",
       "      <td>6.442067e+05</td>\n",
       "      <td>2.215232e+01</td>\n",
       "      <td>7.405107e+03</td>\n",
       "      <td>2.036291e+01</td>\n",
       "      <td>7.072006e-09</td>\n",
       "    </tr>\n",
       "    <tr>\n",
       "      <th>min</th>\n",
       "      <td>0.000000e+00</td>\n",
       "      <td>0.000000e+00</td>\n",
       "      <td>1.000000e+00</td>\n",
       "      <td>2.200000e+01</td>\n",
       "      <td>1.801000e+03</td>\n",
       "      <td>1.300000e+01</td>\n",
       "      <td>6.037000e+03</td>\n",
       "      <td>1.862232e+03</td>\n",
       "    </tr>\n",
       "    <tr>\n",
       "      <th>25%</th>\n",
       "      <td>3.000000e+00</td>\n",
       "      <td>2.000000e+00</td>\n",
       "      <td>1.258000e+03</td>\n",
       "      <td>1.892700e+05</td>\n",
       "      <td>1.949000e+03</td>\n",
       "      <td>2.541000e+03</td>\n",
       "      <td>6.037000e+03</td>\n",
       "      <td>1.862232e+03</td>\n",
       "    </tr>\n",
       "    <tr>\n",
       "      <th>50%</th>\n",
       "      <td>3.000000e+00</td>\n",
       "      <td>2.000000e+00</td>\n",
       "      <td>1.624000e+03</td>\n",
       "      <td>3.286280e+05</td>\n",
       "      <td>1.958000e+03</td>\n",
       "      <td>4.114000e+03</td>\n",
       "      <td>6.037000e+03</td>\n",
       "      <td>1.862232e+03</td>\n",
       "    </tr>\n",
       "    <tr>\n",
       "      <th>75%</th>\n",
       "      <td>4.000000e+00</td>\n",
       "      <td>3.000000e+00</td>\n",
       "      <td>2.208000e+03</td>\n",
       "      <td>5.346410e+05</td>\n",
       "      <td>1.976000e+03</td>\n",
       "      <td>6.412000e+03</td>\n",
       "      <td>6.059000e+03</td>\n",
       "      <td>1.862232e+03</td>\n",
       "    </tr>\n",
       "    <tr>\n",
       "      <th>max</th>\n",
       "      <td>1.500000e+01</td>\n",
       "      <td>3.200000e+01</td>\n",
       "      <td>6.369200e+04</td>\n",
       "      <td>3.604138e+07</td>\n",
       "      <td>2.016000e+03</td>\n",
       "      <td>3.923850e+05</td>\n",
       "      <td>6.111000e+03</td>\n",
       "      <td>1.862232e+03</td>\n",
       "    </tr>\n",
       "  </tbody>\n",
       "</table>\n",
       "</div>"
      ],
      "text/plain": [
       "           bedrooms     bathrooms   square_feet  property_value     yearbuilt  \\\n",
       "count  1.198509e+06  1.198509e+06  1.198509e+06    1.198509e+06  1.198509e+06   \n",
       "mean   3.301475e+00  2.186956e+00  1.862337e+03    4.596988e+05  1.960970e+03   \n",
       "std    9.314530e-01  9.720801e-01  9.660099e+02    6.442067e+05  2.215232e+01   \n",
       "min    0.000000e+00  0.000000e+00  1.000000e+00    2.200000e+01  1.801000e+03   \n",
       "25%    3.000000e+00  2.000000e+00  1.258000e+03    1.892700e+05  1.949000e+03   \n",
       "50%    3.000000e+00  2.000000e+00  1.624000e+03    3.286280e+05  1.958000e+03   \n",
       "75%    4.000000e+00  3.000000e+00  2.208000e+03    5.346410e+05  1.976000e+03   \n",
       "max    1.500000e+01  3.200000e+01  6.369200e+04    3.604138e+07  2.016000e+03   \n",
       "\n",
       "          taxamount          fips      baseline  \n",
       "count  1.198509e+06  1.198509e+06  1.198509e+06  \n",
       "mean   5.605335e+03  6.048324e+03  1.862232e+03  \n",
       "std    7.405107e+03  2.036291e+01  7.072006e-09  \n",
       "min    1.300000e+01  6.037000e+03  1.862232e+03  \n",
       "25%    2.541000e+03  6.037000e+03  1.862232e+03  \n",
       "50%    4.114000e+03  6.037000e+03  1.862232e+03  \n",
       "75%    6.412000e+03  6.059000e+03  1.862232e+03  \n",
       "max    3.923850e+05  6.111000e+03  1.862232e+03  "
      ]
     },
     "execution_count": 5,
     "metadata": {},
     "output_type": "execute_result"
    }
   ],
   "source": [
    "train.describe()"
   ]
  },
  {
   "cell_type": "markdown",
   "id": "17469aca",
   "metadata": {},
   "source": [
    "# Explore"
   ]
  },
  {
   "cell_type": "markdown",
   "id": "6b6227a5",
   "metadata": {},
   "source": [
    "## Does the fip determine property value?"
   ]
  },
  {
   "cell_type": "code",
   "execution_count": 6,
   "id": "d63a205b",
   "metadata": {},
   "outputs": [
    {
     "data": {
      "image/png": "[encoded data removed]",
      "text/plain": [
       "<Figure size 360x360 with 1 Axes>"
      ]
     },
     "metadata": {
      "needs_background": "light"
     },
     "output_type": "display_data"
    }
   ],
   "source": [
    "#property at 6035 is more likely to have a higher property value\n",
    "w.get_fips(train)"
   ]
  },
  {
   "cell_type": "markdown",
   "id": "6a5826f6",
   "metadata": {},
   "source": [
    "##### The lower the fips the greater the property value"
   ]
  },
  {
   "cell_type": "markdown",
   "id": "618476bd",
   "metadata": {},
   "source": [
    "##### I will now use a chi-square test to investigate whether 'fips' and 'property_value' are related\n",
    "    * I will use a confidence interval of 95%\n",
    "    * The resulting alpha is .05"
   ]
  },
  {
   "cell_type": "markdown",
   "id": "d5808321",
   "metadata": {},
   "source": [
    "#### H_0: 'fips' and 'property_value' are independent of one another\n",
    "#### Ha: 'fips' and 'property_value' are related"
   ]
  },
  {
   "cell_type": "code",
   "execution_count": 7,
   "id": "478d9041",
   "metadata": {},
   "outputs": [
    {
     "name": "stdout",
     "output_type": "stream",
     "text": [
      "chi^2 = 1539281.9230\n",
      "p     = 0.0000\n"
     ]
    }
   ],
   "source": [
    "w.get_chi_fips(train)"
   ]
  },
  {
   "cell_type": "markdown",
   "id": "93b29fe3",
   "metadata": {},
   "source": [
    "##### The p-value is greater than the alpha. Therefore, we have evidence to support that 'fips' and 'property value' are related. Based on this I believe that using the 'fips' feature in modeling will likely have a positive impact on the model's accuracy."
   ]
  },
  {
   "cell_type": "markdown",
   "id": "66e6fd92",
   "metadata": {},
   "source": [
    "## Does Square Feet determine Property Value?"
   ]
  },
  {
   "cell_type": "code",
   "execution_count": 8,
   "id": "609fe2a4",
   "metadata": {},
   "outputs": [
    {
     "data": {
      "image/png": "[encoded data removed]",
      "text/plain": [
       "<Figure size 360x360 with 1 Axes>"
      ]
     },
     "metadata": {
      "needs_background": "light"
     },
     "output_type": "display_data"
    }
   ],
   "source": [
    "# the higher the square feet the higher the property value\n",
    "w.get_square_feet(train)"
   ]
  },
  {
   "cell_type": "markdown",
   "id": "6d8140cf",
   "metadata": {},
   "source": [
    "##### There does not appear to be a correlation between square feet and property value"
   ]
  },
  {
   "cell_type": "markdown",
   "id": "cd281773",
   "metadata": {},
   "source": [
    "## Does Year Built determine Property Value?"
   ]
  },
  {
   "cell_type": "code",
   "execution_count": 4,
   "id": "249fb6c3",
   "metadata": {},
   "outputs": [
    {
     "data": {
      "image/png": "[encoded data removed]",
      "text/plain": [
       "<Figure size 360x360 with 1 Axes>"
      ]
     },
     "metadata": {
      "needs_background": "light"
     },
     "output_type": "display_data"
    }
   ],
   "source": [
    "# the newer the house the higher the property value\n",
    "w.get_year_built(train)"
   ]
  },
  {
   "cell_type": "markdown",
   "id": "0fce70f7",
   "metadata": {},
   "source": [
    "##### The earlier a house is built the more it is worth"
   ]
  },
  {
   "cell_type": "markdown",
   "id": "c277cdc9",
   "metadata": {},
   "source": [
    "##### I will now use a chi-square test to investigate whether 'year built' and 'property value' are related\n",
    "    * I will use a confidence interval of 95%\n",
    "    * The resulting alpha is .05"
   ]
  },
  {
   "cell_type": "markdown",
   "id": "7de239fb",
   "metadata": {},
   "source": [
    "#### H_0: 'year built' and 'property value' are independent of one another\n",
    "#### Ha: 'year built' and 'property value' are related"
   ]
  },
  {
   "cell_type": "code",
   "execution_count": 27,
   "id": "07ab8583",
   "metadata": {},
   "outputs": [
    {
     "name": "stdout",
     "output_type": "stream",
     "text": [
      "chi^2 = 69980603.1074\n",
      "p     = 0.0000\n"
     ]
    }
   ],
   "source": [
    "w.get_chi_year_built(train)"
   ]
  },
  {
   "cell_type": "markdown",
   "id": "af8a0969",
   "metadata": {},
   "source": [
    "##### The p-value is greater than the alpha. Therefore, we have evidence to support that 'yearbuilt' and 'property value' are related. Based on this I believe that using the 'yearbuilt' feature in modeling will likely have a positive impact on the model's accuracy."
   ]
  },
  {
   "cell_type": "markdown",
   "id": "ac8dcb45",
   "metadata": {},
   "source": [
    "## Does number of basthrooms determine property value?"
   ]
  },
  {
   "cell_type": "code",
   "execution_count": 5,
   "id": "91cc8711",
   "metadata": {},
   "outputs": [
    {
     "data": {
      "image/png": "[encoded data removed]",
      "text/plain": [
       "<Figure size 432x288 with 1 Axes>"
      ]
     },
     "metadata": {
      "needs_background": "light"
     },
     "output_type": "display_data"
    }
   ],
   "source": [
    "# the more bathrooms the higher the property value\n",
    "w.get_bathrooms(train)"
   ]
  },
  {
   "cell_type": "markdown",
   "id": "f58faa44",
   "metadata": {},
   "source": [
    "##### The more bathrooms a house has the more it is worth"
   ]
  },
  {
   "cell_type": "markdown",
   "id": "e4a2f913",
   "metadata": {},
   "source": [
    "##### I will now use a chi-square test to investigate whether 'bathrooms' and 'property value' are related\n",
    "    * I will use a confidence interval of 95%\n",
    "    * The resulting alpha is .05"
   ]
  },
  {
   "cell_type": "markdown",
   "id": "aeb12b5c",
   "metadata": {},
   "source": [
    "#### H_0: 'bathrooms' and 'property value' are independent of one another\n",
    "#### Ha: 'bathrooms' and 'property value' are related"
   ]
  },
  {
   "cell_type": "code",
   "execution_count": 29,
   "id": "f7e70eb7",
   "metadata": {},
   "outputs": [
    {
     "name": "stdout",
     "output_type": "stream",
     "text": [
      "chi^2 = 19846220.9265\n",
      "p     = 0.0000\n"
     ]
    }
   ],
   "source": [
    "w.get_chi_bathrooms(train)"
   ]
  },
  {
   "cell_type": "markdown",
   "id": "be61e4f5",
   "metadata": {},
   "source": [
    "##### The p-value is greater than the alpha. Therefore, we have evidence to support that 'bathrooms' and 'property value' are related. Based on this I believe that using the 'bathrooms' feature in modeling will likely have a positive impact on the model's accuracy."
   ]
  },
  {
   "cell_type": "markdown",
   "id": "657cf228",
   "metadata": {},
   "source": [
    "## Does number of bedrooms determine property value?"
   ]
  },
  {
   "cell_type": "code",
   "execution_count": 6,
   "id": "d0fd4e45",
   "metadata": {},
   "outputs": [
    {
     "data": {
      "image/png": "[encoded data removed]",
      "text/plain": [
       "<Figure size 432x288 with 1 Axes>"
      ]
     },
     "metadata": {
      "needs_background": "light"
     },
     "output_type": "display_data"
    }
   ],
   "source": [
    "# the more bedrooms the higher the property value\n",
    "w.get_bedrooms(train)"
   ]
  },
  {
   "cell_type": "markdown",
   "id": "b172d6b1",
   "metadata": {},
   "source": [
    "##### The more bedrooms a house has the more it is worth"
   ]
  },
  {
   "cell_type": "markdown",
   "id": "0dfeefc7",
   "metadata": {},
   "source": [
    "# Exploration Summery\n",
    "    *\n",
    "    *\n",
    "    *\n",
    "    *\n",
    "    *"
   ]
  },
  {
   "cell_type": "markdown",
   "id": "e9c7472d",
   "metadata": {},
   "source": [
    "# Features I am moving to modeling with\n",
    "    *\n",
    "    *\n",
    "    *\n",
    "    *"
   ]
  },
  {
   "cell_type": "markdown",
   "id": "cc0cbeb6",
   "metadata": {},
   "source": [
    "# Features I am not moving to modeling with\n",
    "    * \"square_feet\"(There is no evidence that square_feet is a driver of churn)"
   ]
  },
  {
   "cell_type": "markdown",
   "id": "401edf90",
   "metadata": {},
   "source": [
    "# Modeling\n",
    "    * Models will be evaluated on train and validate data\n",
    "    * The model that performs the best will then be evaluated on test data"
   ]
  },
  {
   "cell_type": "markdown",
   "id": "528a889b",
   "metadata": {},
   "source": [
    "# Linear Regression"
   ]
  },
  {
   "cell_type": "markdown",
   "id": "835252aa",
   "metadata": {},
   "source": [
    "# LassoLars"
   ]
  },
  {
   "cell_type": "markdown",
   "id": "1e74c69c",
   "metadata": {},
   "source": [
    "# TweedieRegressor"
   ]
  },
  {
   "cell_type": "markdown",
   "id": "6e050305",
   "metadata": {},
   "source": [
    "# Polynomial Regression"
   ]
  },
  {
   "cell_type": "markdown",
   "id": "71cf9990",
   "metadata": {},
   "source": [
    "# Comparing Models"
   ]
  },
  {
   "cell_type": "markdown",
   "id": "2b0b4256",
   "metadata": {},
   "source": [
    "# [Blank] on Test"
   ]
  },
  {
   "cell_type": "markdown",
   "id": "ee0af995",
   "metadata": {},
   "source": [
    "## Modeling Summary"
   ]
  },
  {
   "cell_type": "markdown",
   "id": "0658e734",
   "metadata": {},
   "source": [
    "# Conclusions"
   ]
  },
  {
   "cell_type": "markdown",
   "id": "40e52fba",
   "metadata": {},
   "source": [
    "## Exploration"
   ]
  },
  {
   "cell_type": "markdown",
   "id": "1b712c98",
   "metadata": {},
   "source": [
    "## Modeling "
   ]
  },
  {
   "cell_type": "markdown",
   "id": "523d817f",
   "metadata": {},
   "source": [
    "## Recommendations "
   ]
  },
  {
   "cell_type": "markdown",
   "id": "654cf193",
   "metadata": {},
   "source": [
    "## Next Steps"
   ]
  },
  {
   "cell_type": "code",
   "execution_count": null,
   "id": "2a43374b",
   "metadata": {},
   "outputs": [],
   "source": []
  }
 ],
 "metadata": {
  "kernelspec": {
   "display_name": "Python 3 (ipykernel)",
   "language": "python",
   "name": "python3"
  },
  "language_info": {
   "codemirror_mode": {
    "name": "ipython",
    "version": 3
   },
   "file_extension": ".py",
   "mimetype": "text/x-python",
   "name": "python",
   "nbconvert_exporter": "python",
   "pygments_lexer": "ipython3",
   "version": "3.9.12"
  }
 },
 "nbformat": 4,
 "nbformat_minor": 5
}
